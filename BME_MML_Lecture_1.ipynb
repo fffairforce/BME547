{
  "nbformat": 4,
  "nbformat_minor": 0,
  "metadata": {
    "colab": {
      "name": "BME MML Lecture 1.ipynb",
      "version": "0.3.2",
      "provenance": [],
      "collapsed_sections": [],
      "include_colab_link": true
    },
    "kernelspec": {
      "name": "python3",
      "display_name": "Python 3"
    },
    "accelerator": "GPU"
  },
  "cells": [
    {
      "cell_type": "markdown",
      "metadata": {
        "id": "view-in-github",
        "colab_type": "text"
      },
      "source": [
        "<a href=\"https://colab.research.google.com/github/fffairforce/BME547/blob/master/BME_MML_Lecture_1.ipynb\" target=\"_parent\"><img src=\"https://colab.research.google.com/assets/colab-badge.svg\" alt=\"Open In Colab\"/></a>"
      ]
    },
    {
      "cell_type": "code",
      "metadata": {
        "id": "R9a8JhMSooax",
        "colab_type": "code",
        "colab": {}
      },
      "source": [
        "!pip3 install tensorflow_datasets\n",
        "!pip3 install tensorflow-gpu==2.0.0-rc0"
      ],
      "execution_count": 0,
      "outputs": []
    },
    {
      "cell_type": "code",
      "metadata": {
        "id": "ib4x3kKBzRwi",
        "colab_type": "code",
        "colab": {}
      },
      "source": [
        "!nvidia-smi"
      ],
      "execution_count": 0,
      "outputs": []
    },
    {
      "cell_type": "code",
      "metadata": {
        "id": "16H0VrkPo3we",
        "colab_type": "code",
        "colab": {}
      },
      "source": [
        "import tensorflow as tf\n",
        "import tensorflow_datasets as tfds\n",
        "import matplotlib.pyplot as plt\n",
        "import numpy as np"
      ],
      "execution_count": 0,
      "outputs": []
    },
    {
      "cell_type": "code",
      "metadata": {
        "id": "U43Nezc6gPDw",
        "colab_type": "code",
        "colab": {}
      },
      "source": [
        "test = tfds.Split.TRAIN.subsplit(tfds.percent[-25:])\n",
        "train = tfds.Split.TRAIN.subsplit(tfds.percent[:75])\n",
        "training_ds = tfds.load('titanic', split=train)\n",
        "test_ds = tfds.load()"
      ],
      "execution_count": 0,
      "outputs": []
    },
    {
      "cell_type": "code",
      "metadata": {
        "id": "bpeQz_6AtLvI",
        "colab_type": "code",
        "colab": {}
      },
      "source": [
        "# Get Data\n",
        "BATCH_SIZE = 100\n",
        "TOTAL_SIZE = 1309\n",
        "test = tfds.Split.TRAIN.subsplit(tfds.percent[-25:])\n",
        "train = tfds.Split.TRAIN.subsplit(tfds.percent[:75])\n",
        "train_ds = tfds.load('titanic', split=train)\n",
        "test_ds = tfds.load('titanic', split=test)\n",
        "train_ds = train_ds.map(lambda ele: tuple((ele['features'], ele['survived']))).batch(BATCH_SIZE).repeat()\n",
        "test_ds = test_ds.map(lambda ele: tuple((ele['features'], ele['survived']))).batch(BATCH_SIZE).repeat()"
      ],
      "execution_count": 0,
      "outputs": []
    },
    {
      "cell_type": "code",
      "metadata": {
        "id": "OvT8Do-qu3XF",
        "colab_type": "code",
        "outputId": "3e6a8554-d8b7-4a45-b0cf-8660d4a130a2",
        "colab": {
          "base_uri": "https://localhost:8080/",
          "height": 35
        }
      },
      "source": [
        "def preview_data(feature_column):\n",
        "  feature_layer = tf.keras.layers.DenseFeatures(feature_column)\n",
        "  return feature_layer(feature_batch).numpy()\n",
        "\n",
        "for feature_batch, label_batch in train_ds.take(1):\n",
        "  print('Every feature:', list(feature_batch.keys()))"
      ],
      "execution_count": 0,
      "outputs": [
        {
          "output_type": "stream",
          "text": [
            "Every feature: ['age', 'boat', 'body', 'cabin', 'embarked', 'fare', 'home.dest', 'name', 'parch', 'pclass', 'sex', 'sibsp', 'ticket']\n"
          ],
          "name": "stdout"
        }
      ]
    },
    {
      "cell_type": "code",
      "metadata": {
        "id": "38hB3cVzwdDt",
        "colab_type": "code",
        "colab": {}
      },
      "source": [
        "age = tf.feature_column.numeric_column('age')\n",
        "\n",
        "pclass = tf.feature_column.indicator_column(\n",
        "            tf.feature_column.categorical_column_with_identity('pclass', 3)\n",
        "         )\n",
        "\n",
        "sex = tf.feature_column.indicator_column(\n",
        "          tf.feature_column.categorical_column_with_identity('sex', 2)\n",
        "      )\n",
        "\n",
        "sibsp = tf.feature_column.numeric_column('sibsp')\n",
        "parch = tf.feature_column.numeric_column('parch')\n",
        "fare = tf.feature_column.numeric_column('fare')\n",
        "home = tf.feature_column.embedding_column(\n",
        "          tf.feature_column.categorical_column_with_hash_bucket('home.dest', 50), \n",
        "       5)\n",
        "\n",
        "feature_columns = [age, pclass, sex, sibsp, parch, fare, home]"
      ],
      "execution_count": 0,
      "outputs": []
    },
    {
      "cell_type": "code",
      "metadata": {
        "id": "JdlZCp-ByTnz",
        "colab_type": "code",
        "outputId": "f5975332-dfd9-45e9-c524-984370a8732d",
        "colab": {
          "base_uri": "https://localhost:8080/",
          "height": 417
        }
      },
      "source": [
        "model = tf.keras.Sequential([\n",
        "  tf.keras.layers.DenseFeatures(feature_columns),\n",
        "  tf.keras.layers.Dense(1, activation='sigmoid'),\n",
        "])\n",
        "model.compile('adam', loss='binary_crossentropy', metrics=[tf.keras.metrics.AUC()])\n",
        "model.fit(train_ds, steps_per_epoch=int(TOTAL_SIZE*0.75), \n",
        "          validation_data=test_ds, \n",
        "          validation_steps=int(TOTAL_SIZE*0.25),\n",
        "          epochs=10)"
      ],
      "execution_count": 0,
      "outputs": [
        {
          "output_type": "stream",
          "text": [
            "Train for 981 steps, validate for 327 steps\n",
            "Epoch 1/10\n",
            "981/981 [==============================] - 34s 35ms/step - loss: 2.3542 - auc_1: 0.5746 - val_loss: 0.5125 - val_auc_1: 0.8282\n",
            "Epoch 2/10\n",
            "981/981 [==============================] - 31s 32ms/step - loss: 0.4910 - auc_1: 0.8220 - val_loss: 0.4737 - val_auc_1: 0.8603\n",
            "Epoch 3/10\n",
            "981/981 [==============================] - 32s 32ms/step - loss: 0.4622 - auc_1: 0.8371 - val_loss: 0.4819 - val_auc_1: 0.8533\n",
            "Epoch 4/10\n",
            "981/981 [==============================] - 31s 32ms/step - loss: 0.4576 - auc_1: 0.8386 - val_loss: 0.4884 - val_auc_1: 0.8504\n",
            "Epoch 5/10\n",
            "981/981 [==============================] - 32s 32ms/step - loss: 0.4565 - auc_1: 0.8389 - val_loss: 0.4908 - val_auc_1: 0.8485\n",
            "Epoch 6/10\n",
            "981/981 [==============================] - 31s 32ms/step - loss: 0.4564 - auc_1: 0.8387 - val_loss: 0.4914 - val_auc_1: 0.8492\n",
            "Epoch 7/10\n",
            "981/981 [==============================] - 33s 33ms/step - loss: 0.4562 - auc_1: 0.8391 - val_loss: 0.4913 - val_auc_1: 0.8498\n",
            "Epoch 8/10\n",
            "981/981 [==============================] - 33s 34ms/step - loss: 0.4563 - auc_1: 0.8393 - val_loss: 0.4909 - val_auc_1: 0.8512\n",
            "Epoch 9/10\n",
            "981/981 [==============================] - 33s 33ms/step - loss: 0.4564 - auc_1: 0.8392 - val_loss: 0.4906 - val_auc_1: 0.8505\n",
            "Epoch 10/10\n",
            "981/981 [==============================] - 33s 33ms/step - loss: 0.4564 - auc_1: 0.8391 - val_loss: 0.4906 - val_auc_1: 0.8507\n"
          ],
          "name": "stdout"
        },
        {
          "output_type": "execute_result",
          "data": {
            "text/plain": [
              "<tensorflow.python.keras.callbacks.History at 0x7f807b7132b0>"
            ]
          },
          "metadata": {
            "tags": []
          },
          "execution_count": 18
        }
      ]
    },
    {
      "cell_type": "code",
      "metadata": {
        "id": "u8ijFT_PvtlZ",
        "colab_type": "code",
        "outputId": "0585cea6-353d-42c1-e7dc-4b12d076699e",
        "colab": {
          "base_uri": "https://localhost:8080/",
          "height": 235
        }
      },
      "source": [
        "model.summary()"
      ],
      "execution_count": 0,
      "outputs": [
        {
          "output_type": "stream",
          "text": [
            "Model: \"sequential_2\"\n",
            "_________________________________________________________________\n",
            "Layer (type)                 Output Shape              Param #   \n",
            "=================================================================\n",
            "dense_features_2 (DenseFeatu multiple                  500       \n",
            "_________________________________________________________________\n",
            "dense_2 (Dense)              multiple                  20        \n",
            "=================================================================\n",
            "Total params: 520\n",
            "Trainable params: 520\n",
            "Non-trainable params: 0\n",
            "_________________________________________________________________\n"
          ],
          "name": "stdout"
        }
      ]
    },
    {
      "cell_type": "code",
      "metadata": {
        "id": "pZ8vE_XDCTWM",
        "colab_type": "code",
        "outputId": "08c0b8a2-fe64-4fd5-bd99-ea18b7131115",
        "colab": {
          "base_uri": "https://localhost:8080/",
          "height": 287
        }
      },
      "source": [
        "import seaborn as sns\n",
        "predicted_dead = model.predict(feature_batch)[label_batch==0]\n",
        "predicted_alive = model.predict(feature_batch)[label_batch==1]\n",
        "sns.distplot(predicted_dead, bins=20)\n",
        "sns.distplot(predicted_alive, bins=20)"
      ],
      "execution_count": 0,
      "outputs": [
        {
          "output_type": "execute_result",
          "data": {
            "text/plain": [
              "<matplotlib.axes._subplots.AxesSubplot at 0x7f807b835c18>"
            ]
          },
          "metadata": {
            "tags": []
          },
          "execution_count": 15
        },
        {
          "output_type": "display_data",
          "data": {
            "image/png": "[encoded data removed]",
            "text/plain": [
              "<Figure size 432x288 with 1 Axes>"
            ]
          },
          "metadata": {
            "tags": []
          }
        }
      ]
    }
  ]
}